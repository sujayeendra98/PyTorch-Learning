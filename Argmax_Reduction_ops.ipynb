{
  "nbformat": 4,
  "nbformat_minor": 0,
  "metadata": {
    "colab": {
      "name": "Argmax_Reduction_ops.ipynb",
      "provenance": [],
      "authorship_tag": "ABX9TyNj6W1G1cPB/D07Oc52AU7m",
      "include_colab_link": true
    },
    "kernelspec": {
      "name": "python3",
      "display_name": "Python 3"
    },
    "language_info": {
      "name": "python"
    }
  },
  "cells": [
    {
      "cell_type": "markdown",
      "metadata": {
        "id": "view-in-github",
        "colab_type": "text"
      },
      "source": [
        "<a href=\"https://colab.research.google.com/github/sujayeendra98/PyTorch-Learning/blob/main/Argmax_Reduction_ops.ipynb\" target=\"_parent\"><img src=\"https://colab.research.google.com/assets/colab-badge.svg\" alt=\"Open In Colab\"/></a>"
      ]
    },
    {
      "cell_type": "code",
      "metadata": {
        "id": "YvOWBH4y-EcT"
      },
      "source": [
        "import numpy as np\n",
        "import torch"
      ],
      "execution_count": 1,
      "outputs": []
    },
    {
      "cell_type": "code",
      "metadata": {
        "id": "_gEEJCdc-YIT"
      },
      "source": [
        "t = torch.tensor([\n",
        "        [0,1,0],\n",
        "        [2,0,2],\n",
        "        [0,3,0]\n",
        "\n",
        "] , dtype = torch.float32)"
      ],
      "execution_count": 2,
      "outputs": []
    },
    {
      "cell_type": "code",
      "metadata": {
        "colab": {
          "base_uri": "https://localhost:8080/"
        },
        "id": "b0zSiedp-vEW",
        "outputId": "193c9fbd-8ed8-4acd-e5f0-ce35791f2f5b"
      },
      "source": [
        "t.sum()"
      ],
      "execution_count": 3,
      "outputs": [
        {
          "output_type": "execute_result",
          "data": {
            "text/plain": [
              "tensor(8.)"
            ]
          },
          "metadata": {
            "tags": []
          },
          "execution_count": 3
        }
      ]
    },
    {
      "cell_type": "code",
      "metadata": {
        "colab": {
          "base_uri": "https://localhost:8080/"
        },
        "id": "BnJIafrA_Fh9",
        "outputId": "6f5a35c5-be88-4890-e5e1-495d77be34cb"
      },
      "source": [
        "t.numel()"
      ],
      "execution_count": 4,
      "outputs": [
        {
          "output_type": "execute_result",
          "data": {
            "text/plain": [
              "9"
            ]
          },
          "metadata": {
            "tags": []
          },
          "execution_count": 4
        }
      ]
    },
    {
      "cell_type": "code",
      "metadata": {
        "colab": {
          "base_uri": "https://localhost:8080/"
        },
        "id": "pY06_WrJ_H-E",
        "outputId": "db9b1067-12f2-4c13-ab9e-1177de059bce"
      },
      "source": [
        "t.sum().numel()"
      ],
      "execution_count": 5,
      "outputs": [
        {
          "output_type": "execute_result",
          "data": {
            "text/plain": [
              "1"
            ]
          },
          "metadata": {
            "tags": []
          },
          "execution_count": 5
        }
      ]
    },
    {
      "cell_type": "code",
      "metadata": {
        "colab": {
          "base_uri": "https://localhost:8080/"
        },
        "id": "sJEGiwoj_Lq8",
        "outputId": "b0961540-03b6-4579-c7c9-74d721466ad4"
      },
      "source": [
        "t.sum().numel() < t.numel()"
      ],
      "execution_count": 6,
      "outputs": [
        {
          "output_type": "execute_result",
          "data": {
            "text/plain": [
              "True"
            ]
          },
          "metadata": {
            "tags": []
          },
          "execution_count": 6
        }
      ]
    },
    {
      "cell_type": "code",
      "metadata": {
        "id": "u9zki3vO_P_O"
      },
      "source": [
        "t = torch.tensor([\n",
        "                  [1,1,1,1],\n",
        "                  [2,3,4,5],\n",
        "                  [11,23,8,9]\n",
        "] , dtype = torch.float32)\n",
        "\n"
      ],
      "execution_count": 7,
      "outputs": []
    },
    {
      "cell_type": "code",
      "metadata": {
        "colab": {
          "base_uri": "https://localhost:8080/"
        },
        "id": "RziJMl0ABRX2",
        "outputId": "06956de1-d1fd-4927-f0d3-fa840fdbaae7"
      },
      "source": [
        "t.max()"
      ],
      "execution_count": 8,
      "outputs": [
        {
          "output_type": "execute_result",
          "data": {
            "text/plain": [
              "tensor(23.)"
            ]
          },
          "metadata": {
            "tags": []
          },
          "execution_count": 8
        }
      ]
    },
    {
      "cell_type": "code",
      "metadata": {
        "colab": {
          "base_uri": "https://localhost:8080/"
        },
        "id": "wMsq1gyeBTWG",
        "outputId": "8482f55e-54c0-4efd-d477-9ea0103e3528"
      },
      "source": [
        "t.argmax()"
      ],
      "execution_count": 9,
      "outputs": [
        {
          "output_type": "execute_result",
          "data": {
            "text/plain": [
              "tensor(9)"
            ]
          },
          "metadata": {
            "tags": []
          },
          "execution_count": 9
        }
      ]
    },
    {
      "cell_type": "code",
      "metadata": {
        "colab": {
          "base_uri": "https://localhost:8080/"
        },
        "id": "oVBXsG_aBWnm",
        "outputId": "91f75dc8-4e81-4452-87fe-8d4df2727851"
      },
      "source": [
        "t.flatten()"
      ],
      "execution_count": 10,
      "outputs": [
        {
          "output_type": "execute_result",
          "data": {
            "text/plain": [
              "tensor([ 1.,  1.,  1.,  1.,  2.,  3.,  4.,  5., 11., 23.,  8.,  9.])"
            ]
          },
          "metadata": {
            "tags": []
          },
          "execution_count": 10
        }
      ]
    },
    {
      "cell_type": "code",
      "metadata": {
        "colab": {
          "base_uri": "https://localhost:8080/"
        },
        "id": "PgPOxroABYoY",
        "outputId": "3f707b93-19c5-4fe6-a0bc-536ebf053ab8"
      },
      "source": [
        "t.max(dim=0)"
      ],
      "execution_count": 11,
      "outputs": [
        {
          "output_type": "execute_result",
          "data": {
            "text/plain": [
              "torch.return_types.max(values=tensor([11., 23.,  8.,  9.]), indices=tensor([2, 2, 2, 2]))"
            ]
          },
          "metadata": {
            "tags": []
          },
          "execution_count": 11
        }
      ]
    },
    {
      "cell_type": "code",
      "metadata": {
        "colab": {
          "base_uri": "https://localhost:8080/"
        },
        "id": "yR20AFpRBpEa",
        "outputId": "99c95e35-ac23-4cb5-8d34-ab747d2b888b"
      },
      "source": [
        "t.max(dim=1)"
      ],
      "execution_count": 12,
      "outputs": [
        {
          "output_type": "execute_result",
          "data": {
            "text/plain": [
              "torch.return_types.max(values=tensor([ 1.,  5., 23.]), indices=tensor([0, 3, 1]))"
            ]
          },
          "metadata": {
            "tags": []
          },
          "execution_count": 12
        }
      ]
    },
    {
      "cell_type": "code",
      "metadata": {
        "id": "8gIlzl7TPRFQ"
      },
      "source": [
        ""
      ],
      "execution_count": null,
      "outputs": []
    }
  ]
}