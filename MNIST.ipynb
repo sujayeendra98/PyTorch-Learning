{
  "nbformat": 4,
  "nbformat_minor": 0,
  "metadata": {
    "colab": {
      "name": "MNIST.ipynb",
      "provenance": []
    },
    "kernelspec": {
      "name": "python3",
      "display_name": "Python 3"
    },
    "language_info": {
      "name": "python"
    }
  },
  "cells": [
    {
      "cell_type": "code",
      "metadata": {
        "id": "Y3y1O03owRzY"
      },
      "source": [
        ""
      ],
      "execution_count": null,
      "outputs": []
    },
    {
      "cell_type": "markdown",
      "metadata": {
        "id": "yoWB_jomI7CZ"
      },
      "source": [
        "\n",
        "Handwritten Digit Recognition Using PyTorch — Intro To Neural Networks\n",
        "\n",
        "transforms.ToTensor = converts the image into numbers that are understanble by system\n"
      ]
    },
    {
      "cell_type": "code",
      "metadata": {
        "id": "3Xl_JdqAwq3O"
      },
      "source": [
        "import numpy as np\n",
        "import torch\n",
        "import torchvision\n",
        "import matplotlib.pyplot as plt\n",
        "from time import time\n",
        "from torchvision import datasets , transforms\n",
        "from torch import nn , optim"
      ],
      "execution_count": 2,
      "outputs": []
    },
    {
      "cell_type": "code",
      "metadata": {
        "id": "M8VEALZYwrHM"
      },
      "source": [
        "transform = transforms.Compose([transforms.ToTensor(),transforms.Normalize((0.5) , (0.5)),])"
      ],
      "execution_count": 7,
      "outputs": []
    },
    {
      "cell_type": "code",
      "metadata": {
        "id": "8hjZpProxD_h"
      },
      "source": [
        "trainset = datasets.MNIST('/home/sujayeendra/Documents',download=True , train = True , transform=transform)"
      ],
      "execution_count": 10,
      "outputs": []
    },
    {
      "cell_type": "code",
      "metadata": {
        "id": "yHn3uiRG0OrD"
      },
      "source": [
        "valset = datasets.MNIST('/home/sujayeendra/Documents',download = True , train = False , transform=transform)"
      ],
      "execution_count": 12,
      "outputs": []
    },
    {
      "cell_type": "code",
      "metadata": {
        "id": "i76Fc8kIxEH3"
      },
      "source": [
        "trainloader = torch.utils.data.DataLoader(trainset , batch_size=64 , shuffle=True)\n"
      ],
      "execution_count": 13,
      "outputs": []
    },
    {
      "cell_type": "code",
      "metadata": {
        "id": "S5IA5M9KxEQ2"
      },
      "source": [
        "valloader = torch.utils.data.DataLoader(valset , batch_size=64 , shuffle=True)"
      ],
      "execution_count": 14,
      "outputs": []
    },
    {
      "cell_type": "code",
      "metadata": {
        "colab": {
          "base_uri": "https://localhost:8080/"
        },
        "id": "ANm5igdExEUo",
        "outputId": "4b417e5e-4540-4f4f-cf64-6f56454730bb"
      },
      "source": [
        "#Knowing the data\n",
        "dataiter = iter(trainloader)\n",
        "images , labels = dataiter.next()\n",
        "print(images.shape)\n",
        "print(labels.shape)"
      ],
      "execution_count": 15,
      "outputs": [
        {
          "output_type": "stream",
          "text": [
            "torch.Size([64, 1, 28, 28])\n",
            "torch.Size([64])\n"
          ],
          "name": "stdout"
        }
      ]
    },
    {
      "cell_type": "code",
      "metadata": {
        "colab": {
          "base_uri": "https://localhost:8080/",
          "height": 282
        },
        "id": "bbRy3A_fxEbL",
        "outputId": "e1a1ca5c-976c-42ae-c896-02a8a6a8596b"
      },
      "source": [
        "#Display a image\n",
        "plt.imshow(images[0].numpy().squeeze(),cmap = 'gray_r')"
      ],
      "execution_count": 16,
      "outputs": [
        {
          "output_type": "execute_result",
          "data": {
            "text/plain": [
              "<matplotlib.image.AxesImage at 0x7ff6a78089d0>"
            ]
          },
          "metadata": {
            "tags": []
          },
          "execution_count": 16
        },
        {
          "output_type": "display_data",
          "data": {
            "image/png": "[encoded data removed]",
            "text/plain": [
              "<Figure size 432x288 with 1 Axes>"
            ]
          },
          "metadata": {
            "tags": [],
            "needs_background": "light"
          }
        }
      ]
    },
    {
      "cell_type": "code",
      "metadata": {
        "id": "oZlyvfhw39Pi"
      },
      "source": [
        "figure = plt.figure()\n",
        "num_of_images = 60\n",
        "for index in range(1 , num_of_images + 1):\n",
        "  plt.subplot(6 , 10 , index)\n",
        "  plt.axis(\"off\")\n",
        "  plt.imshow(images[index].numpy().squeeze() ,  cmap='gray_r')"
      ],
      "execution_count": null,
      "outputs": []
    },
    {
      "cell_type": "code",
      "metadata": {
        "colab": {
          "base_uri": "https://localhost:8080/"
        },
        "id": "tRdCdD_v4s_6",
        "outputId": "07742fe4-b311-4e54-add7-1efa80b6ce7f"
      },
      "source": [
        "#Build Neural Network\n",
        "#Input Layer -> Hidden Layer -> Output Layer -> Result\n",
        "\n",
        "input_size = 784\n",
        "hidden_sizes = [128,64]\n",
        "output_size = 10\n",
        "\n",
        "model = nn.Sequential(nn.Linear(input_size , hidden_sizes[0]),\n",
        "                      nn.ReLU(),\n",
        "                      nn.Linear(hidden_sizes[0] , hidden_sizes[1]),\n",
        "                      nn.ReLU(),\n",
        "                      nn.Linear(hidden_sizes[1] , output_size),\n",
        "                      nn.LogSoftmax(dim = 1))\n",
        "\n",
        "print(model)\n",
        "\n",
        "\n"
      ],
      "execution_count": 23,
      "outputs": [
        {
          "output_type": "stream",
          "text": [
            "Sequential(\n",
            "  (0): Linear(in_features=784, out_features=128, bias=True)\n",
            "  (1): ReLU()\n",
            "  (2): Linear(in_features=128, out_features=64, bias=True)\n",
            "  (3): ReLU()\n",
            "  (4): Linear(in_features=64, out_features=10, bias=True)\n",
            "  (5): LogSoftmax(dim=1)\n",
            ")\n"
          ],
          "name": "stdout"
        }
      ]
    },
    {
      "cell_type": "code",
      "metadata": {
        "id": "OklIzHKL6xgM"
      },
      "source": [
        "criterion = nn.NLLLoss()                            #defining loss function \n",
        "images , labels = next(iter(trainloader))           #getting sample data from train loader \n",
        "images = images.view(images.shape[0] , -1)          #flattening the image to one dim\n",
        "\n",
        "logps = model(images)                               #push the data to model and log probability vector\n",
        "loss  = criterion(logps , labels)                   #calculate loss between logps and labels size= [10 , 1]\n"
      ],
      "execution_count": 25,
      "outputs": []
    },
    {
      "cell_type": "code",
      "metadata": {
        "colab": {
          "base_uri": "https://localhost:8080/"
        },
        "id": "E9r3E86i8-xK",
        "outputId": "b947c5f3-5224-46b8-c140-f9c5ef85a988"
      },
      "source": [
        "#adjusting weights \n",
        "print(\"Before Backward Pass\" , model[0].weight.grad) #none \n",
        "loss.backward()                                      #calculate the gradients \n",
        "print(\"after backward pass\" , model[0].weight.grad)  #values obtained after backward pass\n"
      ],
      "execution_count": 26,
      "outputs": [
        {
          "output_type": "stream",
          "text": [
            "Before Backward Pass None\n",
            "after backward pass tensor([[ 0.0017,  0.0017,  0.0017,  ...,  0.0017,  0.0017,  0.0017],\n",
            "        [-0.0008, -0.0008, -0.0008,  ..., -0.0008, -0.0008, -0.0008],\n",
            "        [ 0.0005,  0.0005,  0.0005,  ...,  0.0005,  0.0005,  0.0005],\n",
            "        ...,\n",
            "        [-0.0011, -0.0011, -0.0011,  ..., -0.0011, -0.0011, -0.0011],\n",
            "        [ 0.0020,  0.0020,  0.0020,  ...,  0.0020,  0.0020,  0.0020],\n",
            "        [ 0.0015,  0.0015,  0.0015,  ...,  0.0015,  0.0015,  0.0015]])\n"
          ],
          "name": "stdout"
        }
      ]
    },
    {
      "cell_type": "code",
      "metadata": {
        "colab": {
          "base_uri": "https://localhost:8080/"
        },
        "id": "cdI5Y2Mx9kTi",
        "outputId": "00958280-54c9-42ed-d0c4-4ead66365c1d"
      },
      "source": [
        "optimizer = optim.SGD(model.parameters() , lr = 0.003 , momentum=0.9)\n",
        "time0 = time()\n",
        "epochs = 15\n",
        "for e in range(epochs):\n",
        "  running_loss = 0\n",
        "  for images , labels in trainloader:\n",
        "    #flatten\n",
        "    images = images.view(images.shape[0] , -1)\n",
        "    #training pass\n",
        "    optimizer.zero_grad()\n",
        "\n",
        "    output = model(images)\n",
        "    loss = criterion(output ,  labels)\n",
        "\n",
        "    #BP\n",
        "    loss.backward()\n",
        "\n",
        "    optimizer.step()\n",
        "    running_loss+=loss.item()\n",
        "  else:\n",
        "    print(\"Epoch {} -Training loss : {} \".format(e, running_loss/len(trainloader)))\n",
        "print(\"\\nTraing Time (in minutes)=\" , (time() - time0) / 60)\n"
      ],
      "execution_count": 31,
      "outputs": [
        {
          "output_type": "stream",
          "text": [
            "Epoch 0 -Training loss : 0.2857929187924115 \n",
            "Epoch 1 -Training loss : 0.22458157419507055 \n",
            "Epoch 2 -Training loss : 0.1820040400753588 \n",
            "Epoch 3 -Training loss : 0.1514335314808751 \n",
            "Epoch 4 -Training loss : 0.13152663369200376 \n",
            "Epoch 5 -Training loss : 0.11437831557830418 \n",
            "Epoch 6 -Training loss : 0.10117782245892515 \n",
            "Epoch 7 -Training loss : 0.0903703984824309 \n",
            "Epoch 8 -Training loss : 0.08181428565715215 \n",
            "Epoch 9 -Training loss : 0.07597598986231538 \n",
            "Epoch 10 -Training loss : 0.06771771920157839 \n",
            "Epoch 11 -Training loss : 0.06275402547181971 \n",
            "Epoch 12 -Training loss : 0.05822539836940751 \n",
            "Epoch 13 -Training loss : 0.053328013585717565 \n",
            "Epoch 14 -Training loss : 0.05055095782694119 \n",
            "\n",
            "Traing Time (in minutes)= 2.729242829481761\n"
          ],
          "name": "stdout"
        }
      ]
    },
    {
      "cell_type": "code",
      "metadata": {
        "colab": {
          "base_uri": "https://localhost:8080/"
        },
        "id": "JjLTWrM3_uKA",
        "outputId": "f88aa95a-edb2-4db7-dd4a-8c262ae6979e"
      },
      "source": [
        "#testing and evaluation\n",
        "img = images[0].view(1,784)\n",
        "\n",
        "with torch.no_grad():\n",
        "  logps = model(img)\n",
        "ps = torch.exp(logps)\n",
        "probab = list(ps.numpy()[0])\n",
        "print(\"predicted digit \", probab.index(max(probab)))\n",
        "\n"
      ],
      "execution_count": 33,
      "outputs": [
        {
          "output_type": "stream",
          "text": [
            "predicted digit  1\n"
          ],
          "name": "stdout"
        }
      ]
    },
    {
      "cell_type": "code",
      "metadata": {
        "colab": {
          "base_uri": "https://localhost:8080/"
        },
        "id": "qF-PT9aQFFx5",
        "outputId": "a9d0c87e-b15d-4921-9644-bdf99c7b5c32"
      },
      "source": [
        "correct_count, all_count = 0, 0\n",
        "for images,labels in valloader:\n",
        "  for i in range(len(labels)):\n",
        "    img = images[i].view(1, 784)\n",
        "    with torch.no_grad():\n",
        "        logps = model(img)\n",
        "\n",
        "    \n",
        "    ps = torch.exp(logps)\n",
        "    probab = list(ps.numpy()[0])\n",
        "    pred_label = probab.index(max(probab))\n",
        "    true_label = labels.numpy()[i]\n",
        "    if(true_label == pred_label):\n",
        "      correct_count += 1\n",
        "    all_count += 1\n",
        "\n",
        "print(\"Number Of Images Tested =\", all_count)\n",
        "print(\"\\nModel Accuracy =\", (correct_count/all_count))"
      ],
      "execution_count": 36,
      "outputs": [
        {
          "output_type": "stream",
          "text": [
            "Number Of Images Tested = 10000\n",
            "\n",
            "Model Accuracy = 0.9741\n"
          ],
          "name": "stdout"
        }
      ]
    },
    {
      "cell_type": "code",
      "metadata": {
        "id": "Vztgy42hFtha"
      },
      "source": [
        ""
      ],
      "execution_count": null,
      "outputs": []
    },
    {
      "cell_type": "code",
      "metadata": {
        "id": "xy6PZyRxFyeE"
      },
      "source": [
        ""
      ],
      "execution_count": 35,
      "outputs": []
    },
    {
      "cell_type": "code",
      "metadata": {
        "id": "TSeRY4POFzMy"
      },
      "source": [
        ""
      ],
      "execution_count": null,
      "outputs": []
    }
  ]
}